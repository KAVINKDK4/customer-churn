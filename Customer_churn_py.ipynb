{
  "nbformat": 4,
  "nbformat_minor": 0,
  "metadata": {
    "colab": {
      "provenance": [],
      "authorship_tag": "ABX9TyO/na92Wt8OGiaHMREze7lQ",
      "include_colab_link": true
    },
    "kernelspec": {
      "name": "python3",
      "display_name": "Python 3"
    },
    "language_info": {
      "name": "python"
    }
  },
  "cells": [
    {
      "cell_type": "markdown",
      "metadata": {
        "id": "view-in-github",
        "colab_type": "text"
      },
      "source": [
        "<a href=\"https://colab.research.google.com/github/KAVINKDK4/customer-churn/blob/main/Customer_churn_py.ipynb\" target=\"_parent\"><img src=\"https://colab.research.google.com/assets/colab-badge.svg\" alt=\"Open In Colab\"/></a>"
      ]
    },
    {
      "cell_type": "code",
      "execution_count": null,
      "metadata": {
        "id": "tDC-ClTKDA39",
        "collapsed": true,
        "colab": {
          "base_uri": "https://localhost:8080/"
        },
        "outputId": "25a263c7-643a-4c15-81ce-529a6102054d"
      },
      "outputs": [
        {
          "output_type": "stream",
          "name": "stdout",
          "text": [
            "Requirement already satisfied: scikit-learn in /usr/local/lib/python3.11/dist-packages (1.6.1)\n",
            "Requirement already satisfied: pandas in /usr/local/lib/python3.11/dist-packages (2.2.2)\n",
            "Requirement already satisfied: numpy in /usr/local/lib/python3.11/dist-packages (2.0.2)\n",
            "Requirement already satisfied: scipy>=1.6.0 in /usr/local/lib/python3.11/dist-packages (from scikit-learn) (1.15.2)\n",
            "Requirement already satisfied: joblib>=1.2.0 in /usr/local/lib/python3.11/dist-packages (from scikit-learn) (1.4.2)\n",
            "Requirement already satisfied: threadpoolctl>=3.1.0 in /usr/local/lib/python3.11/dist-packages (from scikit-learn) (3.6.0)\n",
            "Requirement already satisfied: python-dateutil>=2.8.2 in /usr/local/lib/python3.11/dist-packages (from pandas) (2.9.0.post0)\n",
            "Requirement already satisfied: pytz>=2020.1 in /usr/local/lib/python3.11/dist-packages (from pandas) (2025.2)\n",
            "Requirement already satisfied: tzdata>=2022.7 in /usr/local/lib/python3.11/dist-packages (from pandas) (2025.2)\n",
            "Requirement already satisfied: six>=1.5 in /usr/local/lib/python3.11/dist-packages (from python-dateutil>=2.8.2->pandas) (1.17.0)\n"
          ]
        }
      ],
      "source": [
        "!pip install scikit-learn pandas numpy\n"
      ]
    },
    {
      "cell_type": "code",
      "source": [
        "import pandas as pd\n",
        "import numpy as np\n",
        "\n",
        "from sklearn.model_selection import train_test_split\n",
        "from sklearn.preprocessing import StandardScaler\n",
        "from sklearn.ensemble import RandomForestClassifier\n",
        "from sklearn.metrics import accuracy_score, classification_report\n",
        "\n",
        "# Load dataset (after you’ve uploaded it)\n",
        "df = pd.read_csv('customer_churn.csv').dropna()\n"
      ],
      "metadata": {
        "id": "B1rpcNSpF3IB"
      },
      "execution_count": null,
      "outputs": []
    },
    {
      "cell_type": "code",
      "source": [
        "# Convert categorical variables to dummies\n",
        "df = pd.get_dummies(df, drop_first=True)\n",
        "\n",
        "# Separate features/target\n",
        "X = df.drop('Churn', axis=1)\n",
        "y = df['Churn']\n",
        "\n",
        "# 80/20 train-test split\n",
        "X_train, X_test, y_train, y_test = train_test_split(\n",
        "    X, y, test_size=0.2, random_state=42\n",
        ")\n"
      ],
      "metadata": {
        "id": "1NX4XaIgGL20"
      },
      "execution_count": null,
      "outputs": []
    },
    {
      "cell_type": "code",
      "source": [
        "scaler = StandardScaler().fit(X_train)\n",
        "X_train = scaler.transform(X_train)\n",
        "X_test  = scaler.transform(X_test)\n"
      ],
      "metadata": {
        "id": "faR28ylEGa2G"
      },
      "execution_count": null,
      "outputs": []
    },
    {
      "cell_type": "code",
      "source": [
        "# Fit a Random Forest\n",
        "model = RandomForestClassifier(n_estimators=100, random_state=42)\n",
        "model.fit(X_train, y_train)\n",
        "\n",
        "# Evaluate\n",
        "y_pred = model.predict(X_test)\n",
        "print(f'Accuracy: {accuracy_score(y_test, y_pred):.2f}')\n",
        "print(classification_report(y_test, y_pred))\n"
      ],
      "metadata": {
        "colab": {
          "base_uri": "https://localhost:8080/"
        },
        "id": "0RRGVe9lGm3f",
        "outputId": "7ef2a3c6-9af3-45ee-e9ce-60392cab7a8b"
      },
      "execution_count": null,
      "outputs": [
        {
          "output_type": "stream",
          "name": "stdout",
          "text": [
            "Accuracy: 1.00\n",
            "              precision    recall  f1-score   support\n",
            "\n",
            "           0       0.99      1.00      1.00      6793\n",
            "           1       1.00      0.99      1.00      6082\n",
            "\n",
            "    accuracy                           1.00     12875\n",
            "   macro avg       1.00      1.00      1.00     12875\n",
            "weighted avg       1.00      1.00      1.00     12875\n",
            "\n"
          ]
        }
      ]
    },
    {
      "cell_type": "code",
      "source": [
        "# Prompt for a single new customer’s details\n",
        "print('\\nEnter new customer details:')\n",
        "tenure  = int(input('  Tenure: '))\n",
        "monthly = int(input('  MonthlyCharges: '))\n",
        "total   = int(input('  TotalCharges: '))\n",
        "support = int(  input('  SupportCalls: '))\n",
        "contract =str( input('  Contract: '))\n",
        "payment  = int(input('  PaymentMethod: '))\n",
        "# Build a zero-vector of the right size\n",
        "sample = np.zeros(X.shape[1])\n",
        "\n",
        "# Map only the four continuous features\n",
        "input_map = {\n",
        "    'tenure': tenure,\n",
        "    'MonthlyCharges': monthly,\n",
        "    'TotalCharges': total,\n",
        "    'SupportCalls': support\n",
        "}\n",
        "for idx, col in enumerate(X.columns):\n",
        "    if col in input_map:\n",
        "        sample[idx] = input_map[col]\n",
        "\n",
        "# Scale and predict\n",
        "sample_scaled = scaler.transform([sample])\n",
        "prob = model.predict_proba(sample_scaled)[0][1]\n",
        "print(f'\\nPredicted Churn Probability: {prob:.2%}')\n"
      ],
      "metadata": {
        "colab": {
          "base_uri": "https://localhost:8080/"
        },
        "id": "_RYzDbymGxoh",
        "outputId": "28ad396a-47d8-4216-f002-de7749871618"
      },
      "execution_count": null,
      "outputs": [
        {
          "output_type": "stream",
          "name": "stdout",
          "text": [
            "\n",
            "Enter new customer details:\n",
            "  Tenure: 5\n",
            "  MonthlyCharges: 4600\n",
            "  TotalCharges: 8000\n",
            "  SupportCalls: 5\n",
            "  Contract: annual\n",
            "  PaymentMethod: gpay\n",
            "\n",
            "Predicted Churn Probability: 61.00%\n"
          ]
        },
        {
          "output_type": "stream",
          "name": "stderr",
          "text": [
            "/usr/local/lib/python3.11/dist-packages/sklearn/utils/validation.py:2739: UserWarning: X does not have valid feature names, but StandardScaler was fitted with feature names\n",
            "  warnings.warn(\n"
          ]
        }
      ]
    },
    {
      "source": [
        "# Cell 6 – Visualize Customer Input Impact\n",
        "import matplotlib.pyplot as plt\n",
        "\n",
        "# Define the 4 inputs used\n",
        "input_labels = ['tenure', 'MonthlyCharges', 'TotalCharges', 'SupportCalls']\n",
        "# Create vals by grouping the input values\n",
        "vals = [tenure, monthly, total, support]\n",
        "input_values = dict(zip(input_labels, vals))  # from Cell 5\n",
        "scaled_sample = scaler.transform([sample])[0]\n",
        "\n",
        "# Get feature importance\n",
        "importances = model.feature_importances_\n",
        "\n",
        "# Get impact for just the 4 user-entered features\n",
        "impact = {}\n",
        "for i, name in enumerate(X.columns):\n",
        "    if name in input_labels:\n",
        "        impact[name] = scaled_sample[i] * importances[i]\n",
        "\n",
        "# Plot\n",
        "plt.figure(figsize=(6, 4))\n",
        "plt.bar(impact.keys(), impact.values(), color='skyblue')\n",
        "plt.axhline(0, color='gray', linewidth=0.8)\n",
        "plt.ylabel(\"Influence Score\")\n",
        "plt.title(\"Customer Input Influence on Churn Prediction\")\n",
        "plt.tight_layout()\n",
        "plt.show()"
      ],
      "cell_type": "code",
      "metadata": {
        "colab": {
          "base_uri": "https://localhost:8080/",
          "height": 464
        },
        "id": "doGo3_N8P5Fg",
        "outputId": "115ae152-356f-46ab-f0df-7a5adebfcf08"
      },
      "execution_count": null,
      "outputs": [
        {
          "output_type": "stream",
          "name": "stderr",
          "text": [
            "/usr/local/lib/python3.11/dist-packages/sklearn/utils/validation.py:2739: UserWarning: X does not have valid feature names, but StandardScaler was fitted with feature names\n",
            "  warnings.warn(\n"
          ]
        },
        {
          "output_type": "display_data",
          "data": {
            "text/plain": [
              "<Figure size 600x400 with 1 Axes>"
            ],
            "image/png": "[encoded data removed]"
          },
          "metadata": {}
        }
      ]
    }
  ]
}